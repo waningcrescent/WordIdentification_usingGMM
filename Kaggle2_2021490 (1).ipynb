{
  "cells": [
    {
      "cell_type": "code",
      "execution_count": null,
      "metadata": {
        "colab": {
          "base_uri": "https://localhost:8080/"
        },
        "id": "1jo5tCYpooVe",
        "outputId": "5ae113a0-1660-4878-a71d-6599b6b0cb33"
      },
      "outputs": [
        {
          "name": "stdout",
          "output_type": "stream",
          "text": [
            "Drive already mounted at /content/drive; to attempt to forcibly remount, call drive.mount(\"/content/drive\", force_remount=True).\n"
          ]
        }
      ],
      "source": [
        "from google.colab import drive\n",
        "drive.mount('/content/drive')\n"
      ]
    },
    {
      "cell_type": "code",
      "execution_count": null,
      "metadata": {
        "id": "vdz9ead1pzBO"
      },
      "outputs": [],
      "source": [
        "data_dir = '/content/drive/My Drive/SpeechCommand'\n"
      ]
    },
    {
      "cell_type": "code",
      "execution_count": null,
      "metadata": {
        "colab": {
          "base_uri": "https://localhost:8080/"
        },
        "id": "NyO656L6ctnT",
        "outputId": "a5704875-ad7d-46ed-a4ac-3b1714c387a6"
      },
      "outputs": [
        {
          "name": "stdout",
          "output_type": "stream",
          "text": [
            "['happy', 'dog', 'bed', 'tree', 'wow', 'cat', 'eight', 'no', 'go', 'right', 'nine', '_background_noise_', 'seven', 'sheila', 'stop', 'zero', 'one', 'bird', 'three', 'left', 'down', 'up', 'marvin', 'two', 'five', 'six', 'off', 'yes', 'on', 'house', 'four']\n"
          ]
        }
      ],
      "source": [
        "import os\n",
        "import librosa\n",
        "import numpy as np\n",
        "from sklearn.model_selection import train_test_split\n",
        "from sklearn.mixture import GaussianMixture\n",
        "from sklearn.preprocessing import LabelEncoder\n",
        "from sklearn.metrics import accuracy_score\n",
        "\n",
        "classestoclassify = [clas for clas in os.listdir(data_dir) if os.path.isdir(os.path.join(data_dir, clas))]\n",
        "\n",
        "def get_wav_paths(classestoclassify):\n",
        "    class_path = os.path.join(data_dir, classestoclassify)\n",
        "    wav_paths = [os.path.join(class_path, files) for files in os.listdir(class_path) if files.endswith('.wav')]\n",
        "    return wav_paths\n",
        "\n",
        "print(classestoclassify)"
      ]
    },
    {
      "cell_type": "code",
      "execution_count": null,
      "metadata": {
        "id": "wUFAef9rHkPK"
      },
      "outputs": [],
      "source": [
        "def extract_features(audio_path):\n",
        "    audio, sample_rate = librosa.load(audio_path, sr=None)\n",
        "    mfccs = librosa.feature.mfcc(y=audio, sr=sample_rate, n_mfcc=13)\n",
        "    return mfccs.T"
      ]
    },
    {
      "cell_type": "code",
      "execution_count": null,
      "metadata": {
        "id": "sRf0oTdEkF_F"
      },
      "outputs": [],
      "source": [
        "'''def extract_spectral_features(wav_path, sample_rate=16000):\n",
        "    audio, _ = librosa.load(wav_path, sr=sample_rate, mono=True)\n",
        "    stft = np.abs(librosa.stft(audio))\n",
        "    centroid = librosa.feature.spectral_centroid(S=stft, sr=sample_rate)\n",
        "    bandwidth = librosa.feature.spectral_bandwidth(S=stft, sr=sample_rate)\n",
        "    rolloff = librosa.feature.spectral_rolloff(S=stft, sr=sample_rate)\n",
        "    flatness = librosa.feature.spectral_flatness(S=stft)\n",
        "    contrast = librosa.feature.spectral_contrast(S=stft, sr=sample_rate)\n",
        "\n",
        "    spectral_features = np.concatenate((centroid, bandwidth, rolloff, flatness, contrast), axis=0)\n",
        "    spectral_features_mean = np.mean(spectral_features, axis=1)\n",
        "    return spectral_features_mean'''\n"
      ]
    },
    {
      "cell_type": "code",
      "execution_count": null,
      "metadata": {
        "id": "VnohwAZlrty1"
      },
      "outputs": [],
      "source": [
        "'''def extract_features(audio_path, sample_rate=16000):\n",
        "    audio, sr = librosa.load(audio_path, sr=sample_rate, mono=True)\n",
        "    mfccs = librosa.feature.mfcc(y=audio, sr=sr, n_mfcc=13)\n",
        "    spectral_centroid = librosa.feature.spectral_centroid(y=audio, sr=sr)\n",
        "    spectral_bandwidth = librosa.feature.spectral_bandwidth(y=audio, sr=sr)\n",
        "\n",
        "    features = np.concatenate((mfccs, spectral_centroid, spectral_bandwidth), axis=0)\n",
        "    features_mean = np.mean(features, axis=1)\n",
        "\n",
        "    return features_mean'''"
      ]
    },
    {
      "cell_type": "code",
      "execution_count": null,
      "metadata": {
        "id": "oVRfKwklnNco"
      },
      "outputs": [],
      "source": [
        "'''def mix_background_noise(speech_signal, noise_signal, noise_weight=0.1):\n",
        "    start_idx = np.random.randint(0, len(noise_signal) - len(speech_signal))\n",
        "    segment_of_noise = noise_signal[start_idx : start_idx + len(speech_signal)]\n",
        "    return np.add(speech_signal, segment_of_noise * noise_weight)\n",
        "\n",
        "noise_dir = os.path.join(data_dir, '_background_noise_')\n",
        "noise_paths = get_wav_paths('_background_noise_')\n",
        "noise_signals = [extract_spectral_features(noise_path) for noise_path in noise_paths]\n",
        "'''"
      ]
    },
    {
      "cell_type": "code",
      "execution_count": null,
      "metadata": {
        "id": "6XplSFMQnOOQ"
      },
      "outputs": [],
      "source": [
        "features_with_labels = []\n",
        "for subdir in classestoclassify:\n",
        "    if subdir == '_background_noise_':\n",
        "        continue  # Skip the background noise directory\n",
        "    wav_paths = get_wav_paths(subdir)\n",
        "    for wav_path in wav_paths:\n",
        "        features = extract_features(wav_path)\n",
        "        features_with_labels.append((features, subdir))"
      ]
    },
    {
      "cell_type": "code",
      "execution_count": null,
      "metadata": {
        "colab": {
          "base_uri": "https://localhost:8080/"
        },
        "id": "IVeu_34wRoKg",
        "outputId": "f82429ab-b799-4828-e8bf-eaab60411060"
      },
      "outputs": [
        {
          "name": "stderr",
          "output_type": "stream",
          "text": [
            "/usr/local/lib/python3.10/dist-packages/sklearn/mixture/_base.py:274: ConvergenceWarning: Initialization 3 did not converge. Try different init parameters, or increase max_iter, tol or check for degenerate data.\n",
            "  warnings.warn(\n"
          ]
        }
      ],
      "source": [
        "from sklearn.mixture import GaussianMixture\n",
        "class_mapping = {'right': 0, 'eight': 1, 'cat': 2, 'tree': 3, 'bed': 4, 'happy': 5, 'go': 6, 'dog': 7, 'no': 8, 'wow': 9, 'nine': 10, 'left': 11, 'stop': 12, 'three': 13, 'sheila': 14, 'one': 15, 'bird': 16, 'zero': 17, 'seven': 18, 'up': 19, 'marvin': 20, 'two': 21, 'house': 22, 'down': 23, 'six': 24, 'yes': 25, 'on': 26, 'five': 27, 'off': 28, 'four': 29}\n",
        "gmms = {}\n",
        "\n",
        "n_components = 5\n",
        "\n",
        "for subclass, index in class_mapping.items():\n",
        "    subclass_features = np.vstack([features for features, label in features_with_labels if label == subclass])\n",
        "    gmm = GaussianMixture(n_components=n_components, covariance_type='diag', n_init=3)\n",
        "    gmm.fit(subclass_features)\n",
        "\n",
        "    gmms[index] = gmm"
      ]
    },
    {
      "cell_type": "code",
      "execution_count": null,
      "metadata": {
        "colab": {
          "background_save": true
        },
        "id": "UiLoqme1gHnq",
        "outputId": "8e2efee1-0a3d-42ac-bce7-43fb3ab38253"
      },
      "outputs": [
        {
          "name": "stdout",
          "output_type": "stream",
          "text": [
            "        ID  TARGET\n",
            "0     6663       2\n",
            "1     4727      14\n",
            "2      200       3\n",
            "3     6368      14\n",
            "4     3436      20\n",
            "...    ...     ...\n",
            "6830   739      19\n",
            "6831  5961      19\n",
            "6832  3700      10\n",
            "6833  1056      24\n",
            "6834  3225      13\n",
            "\n",
            "[6835 rows x 2 columns]\n"
          ]
        }
      ],
      "source": [
        "import pandas as pd\n",
        "import os\n",
        "import numpy as np\n",
        "\n",
        "# Assuming the following are already defined:\n",
        "# - extract_features function that outputs averaged features\n",
        "# - gmms dictionary containing trained GMMs for each class\n",
        "\n",
        "test_data_folder = '/content/drive/My Drive/SpeechCommandTest'\n",
        "test_audios = [file for file in os.listdir(test_data_folder) if file.endswith('.wav')]\n",
        "\n",
        "mapping_csv = '/content/drive/My Drive/test.csv'\n",
        "mapping_df = pd.read_csv(mapping_csv)\n",
        "file_to_id = dict(zip(mapping_df['AUDIO_FILE'], mapping_df['ID']))\n",
        "\n",
        "# Collect test features\n",
        "test_features = []\n",
        "for audio_file in test_audios:\n",
        "    audiopath = os.path.join(test_data_folder, audio_file)\n",
        "    features = extract_features(audiopath)  # This should do any necessary averaging\n",
        "    test_features.append(features)\n",
        "\n",
        "# Assuming all feature vectors have the same length, stack them into a 2D array\n",
        "X_test = np.vstack(test_features)\n",
        "\n",
        "# Function to predict the index of the GMM with the highest score\n",
        "def predict_gmm_class(features, gmms):\n",
        "    # Ensure features are in the correct shape\n",
        "    if features.ndim == 1:\n",
        "        features = features.reshape(1, -1)  # Reshape a 1D array to a 2D array with one sample\n",
        "    scores = {class_idx: gmm.score(features) for class_idx, gmm in gmms.items()}\n",
        "    return max(scores, key=scores.get)\n",
        "\n",
        "# Predict the class for each feature vector in the test set\n",
        "predictions = [predict_gmm_class(features.reshape(1, -1), gmms) for features in X_test]\n",
        "\n",
        "# Mapping predictions to file IDs\n",
        "idpredictions = [(file_to_id[audio_file], prediction) for audio_file, prediction in zip(test_audios, predictions)]\n",
        "\n",
        "# Create a DataFrame and save to CSV\n",
        "output_df = pd.DataFrame(idpredictions, columns=['ID', 'TARGET'])\n",
        "outcsv_path = '/content/drive/My Drive/output_predictions.csv'\n",
        "output_df.to_csv(outcsv_path, index=False)\n",
        "\n",
        "print(output_df)\n"
      ]
    },
    {
      "cell_type": "code",
      "execution_count": null,
      "metadata": {
        "id": "P9jfpV23TdiB"
      },
      "outputs": [],
      "source": [
        "#####################################################################################################################################"
      ]
    }
  ],
  "metadata": {
    "colab": {
      "provenance": []
    },
    "kernelspec": {
      "display_name": "Python 3",
      "name": "python3"
    },
    "language_info": {
      "name": "python"
    }
  },
  "nbformat": 4,
  "nbformat_minor": 0
}